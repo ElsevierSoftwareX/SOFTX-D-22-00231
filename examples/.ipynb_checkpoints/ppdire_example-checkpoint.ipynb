{
 "cells": [
  {
   "cell_type": "markdown",
   "metadata": {},
   "source": [
    "`ppdire.py` subpackage: examples\n",
    "================================\n",
    "Here, we will illustrate how to use `ppdire.py` to perform different types of projection pursuit dimension reduction. \n",
    "\n",
    "To run a toy example, start by sourcing packages and data: "
   ]
  },
  {
   "cell_type": "code",
   "execution_count": 1,
   "metadata": {},
   "outputs": [],
   "source": [
    "# Load data\n",
    "import pandas as ps\n",
    "import numpy as np\n",
    "data = ps.read_csv(\"../data/Returns_shares.csv\")\n",
    "columns = data.columns[2:8]\n",
    "(n,p) = data.shape\n",
    "datav = np.matrix(data.values[:,2:8].astype('float64'))\n",
    "y = datav[:,0]\n",
    "X = datav[:,1:5]\n",
    "        \n",
    "# Scale data\n",
    "from direpack import VersatileScaler\n",
    "centring = VersatileScaler()\n",
    "Xs = centring.fit_transform(X)"
   ]
  },
  {
   "cell_type": "markdown",
   "metadata": {},
   "source": [
    "1\\. Comparison of PP estimates to Scikit-Learn \n",
    "======================================\n",
    "Let us at first run `ppdire` to produce slow, approximate PP estimates of \n",
    "PCA and PLS. This makes it easy to verify that the algorithm is correct. \n",
    "        \n",
    "1\\.1\\. PCA\n",
    "--------------\n",
    "By setting the projection index to variance, projection pursuit is a slow, approximate way to calculate PCA. Let's compare the `ppdire` results to `sklearn`'s.\n",
    "\n",
    "- PCA ex `scikit-learn` "
   ]
  },
  {
   "cell_type": "code",
   "execution_count": 3,
   "metadata": {},
   "outputs": [
    {
     "data": {
      "text/plain": [
       "array([[ 0.6160923 ,  0.09574799, -0.27553202,  0.73167254],\n",
       "       [ 0.3612025 ,  0.79963754,  0.40566716, -0.25602091],\n",
       "       [ 0.57369773, -0.2220554 , -0.47175995, -0.63166832],\n",
       "       [ 0.40104108, -0.54963945,  0.73277473,  0.01018414]])"
      ]
     },
     "execution_count": 3,
     "metadata": {},
     "output_type": "execute_result"
    }
   ],
   "source": [
    "import sklearn.decomposition as skd\n",
    "skpca = skd.PCA(n_components=4)\n",
    "skpca.fit(Xs)\n",
    "skpca.components_.T # sklearn outputs loadings as rows ! "
   ]
  },
  {
   "cell_type": "markdown",
   "metadata": {},
   "source": [
    "- PCA ex `ppdire`, using SLSQP optimization "
   ]
  },
  {
   "cell_type": "code",
   "execution_count": 4,
   "metadata": {},
   "outputs": [
    {
     "data": {
      "text/plain": [
       "array([[-0.61607418,  0.09583099,  0.27564666, -0.73163593],\n",
       "       [-0.36117418,  0.79968851, -0.40559672,  0.2560418 ],\n",
       "       [-0.57366555, -0.22197832,  0.47186547,  0.63170265],\n",
       "       [-0.40114045, -0.54958196, -0.73270267, -0.01015965]])"
      ]
     },
     "execution_count": 4,
     "metadata": {},
     "output_type": "execute_result"
    }
   ],
   "source": [
    "from direpack import dicomo, ppdire\n",
    "pppca = ppdire(projection_index = dicomo, pi_arguments = {'mode' : 'var'}, n_components=4, optimizer='SLSQP')\n",
    "pppca.fit(X)\n",
    "pppca.x_loadings_"
   ]
  },
  {
   "cell_type": "markdown",
   "metadata": {},
   "source": [
    "- PCA ex `ppdire`, using its native `grid` algorithm optimization \\[1\\]."
   ]
  },
  {
   "cell_type": "code",
   "execution_count": 6,
   "metadata": {},
   "outputs": [
    {
     "name": "stdout",
     "output_type": "stream",
     "text": [
      "1\n",
      "2\n",
      "3\n",
      "1\n",
      "2\n",
      "3\n",
      "4\n",
      "1\n",
      "2\n",
      "3\n",
      "4\n",
      "1\n",
      "2\n"
     ]
    },
    {
     "data": {
      "text/plain": [
       "array([[ 0.61598274, -0.09421448, -0.27613309,  0.73205157],\n",
       "       [ 0.36137778, -0.80127483,  0.40173098, -0.25522632],\n",
       "       [ 0.57377558,  0.22404487, -0.47051245, -0.63154901],\n",
       "       [ 0.40094043,  0.54670882,  0.73551452,  0.01041449]])"
      ]
     },
     "execution_count": 6,
     "metadata": {},
     "output_type": "execute_result"
    }
   ],
   "source": [
    "pppca = ppdire(projection_index = dicomo, pi_arguments = {'mode' : 'var'}, n_components=4, optimizer='grid',optimizer_options={'ndir':1000,'maxiter':1000})\n",
    "pppca.fit(X)\n",
    "pppca.x_loadings_"
   ]
  },
  {
   "cell_type": "markdown",
   "metadata": {},
   "source": [
    "1\\.2\\. PLS \n",
    "----------\n",
    "Likewise, by setting the projection index to covariance, one obtains partial least squares. \n",
    "\n",
    "- PLS ex `scikit-learn`"
   ]
  },
  {
   "cell_type": "code",
   "execution_count": 7,
   "metadata": {},
   "outputs": [
    {
     "name": "stdout",
     "output_type": "stream",
     "text": [
      "[[ 0.35739958]\n",
      " [-0.04417834]\n",
      " [ 0.22635622]\n",
      " [ 0.04614664]]\n"
     ]
    },
    {
     "data": {
      "text/plain": [
       "matrix([[-0.27212755],\n",
       "        [ 0.83959019],\n",
       "        [-0.22662337],\n",
       "        ...,\n",
       "        [-0.03176729],\n",
       "        [-0.10770676],\n",
       "        [ 0.26843739]])"
      ]
     },
     "execution_count": 7,
     "metadata": {},
     "output_type": "execute_result"
    }
   ],
   "source": [
    "import sklearn.cross_decomposition as skc\n",
    "skpls = skc.PLSRegression(n_components=4)\n",
    "skpls.fit(Xs,(y-np.mean(y))/np.std(y))\n",
    "skpls.x_scores_\n",
    "print(skpls.coef_) \n",
    "Xs*skpls.coef_*np.std(y) + np.mean(y)"
   ]
  },
  {
   "cell_type": "markdown",
   "metadata": {},
   "source": [
    "- PLS ex `ppdire`, using SLSQP optimization "
   ]
  },
  {
   "cell_type": "code",
   "execution_count": 8,
   "metadata": {},
   "outputs": [
    {
     "name": "stdout",
     "output_type": "stream",
     "text": [
      "[[ 0.27190446  0.33122054  0.35628291  0.35734814]\n",
      " [ 0.05506195 -0.04547853 -0.04113433 -0.04417198]\n",
      " [ 0.23907241  0.25452063  0.22888164  0.22632364]\n",
      " [ 0.10731098  0.0461689   0.04141709  0.04614   ]]\n"
     ]
    },
    {
     "data": {
      "text/plain": [
       "matrix([[-0.27208478],\n",
       "        [ 0.83947294],\n",
       "        [-0.22658715],\n",
       "        ...,\n",
       "        [-0.03175912],\n",
       "        [-0.10768766],\n",
       "        [ 0.26840235]])"
      ]
     },
     "execution_count": 8,
     "metadata": {},
     "output_type": "execute_result"
    }
   ],
   "source": [
    "pppls = ppdire(projection_index = dicomo, pi_arguments = {'mode' : 'cov'}, n_components=4, square_pi=True, optimizer='SLSQP', optimizer_options={'maxiter':500})\n",
    "pppls.fit(X,y)\n",
    "pppls.x_scores_\n",
    "print(pppls.coef_scaled_) # Column 4 should agree with skpls.coef_\n",
    "pppls.fitted_  "
   ]
  },
  {
   "cell_type": "markdown",
   "metadata": {},
   "source": [
    "- PLS ex `ppdire`, `grid` optimization"
   ]
  },
  {
   "cell_type": "code",
   "execution_count": 9,
   "metadata": {},
   "outputs": [
    {
     "name": "stdout",
     "output_type": "stream",
     "text": [
      "1\n",
      "2\n",
      "1\n",
      "2\n",
      "1\n",
      "2\n",
      "1\n",
      "2\n",
      "[[ 0.27197566  0.33138071  0.35633098  0.35734814]\n",
      " [ 0.05543391 -0.0453769  -0.04118079 -0.04417198]\n",
      " [ 0.23857626  0.25436242  0.22879951  0.22632364]\n",
      " [ 0.10758362  0.04611615  0.04150847  0.04614   ]]\n"
     ]
    },
    {
     "data": {
      "text/plain": [
       "matrix([[-0.27208478],\n",
       "        [ 0.83947294],\n",
       "        [-0.22658715],\n",
       "        ...,\n",
       "        [-0.03175912],\n",
       "        [-0.10768766],\n",
       "        [ 0.26840235]])"
      ]
     },
     "execution_count": 9,
     "metadata": {},
     "output_type": "execute_result"
    }
   ],
   "source": [
    "pppls = ppdire(projection_index = dicomo, pi_arguments = {'mode' : 'cov'}, n_components=4, square_pi=True, optimizer='grid',optimizer_options={'ndir':1000,'maxiter':1000})\n",
    "pppls.fit(X,y)\n",
    "pppls.x_scores_\n",
    "print(pppls.coef_scaled_) # Column 4 should agree with skpls.coef_\n",
    "pppls.fitted_  "
   ]
  },
  {
   "cell_type": "markdown",
   "metadata": {},
   "source": [
    "Remark: Dimension Reduction techniques based on projection onto latent variables, \n",
    "such as PCA, PLS and ICA, are sign indeterminate with respect to the components. \n",
    "Therefore, signs of estimates by different algorithms can be opposed, yet the \n",
    "absolute values should be identical up to algorithm precision.  Here, this implies\n",
    "that `sklearn` and `ppdire`'s `x_scores_` and `x_loadings` can have opposed signs,\n",
    "yet the coefficients and fitted responses should be identical. \n",
    "\n",
    "2\\. Robust projection pursuit estimators\n",
    "=================================\n",
    "\n",
    "Note that optimization through `scipy.optimize` is much more efficient than the native `grid` algorithm, yet will only provide correct results for classical projection indices. The native `grid` algorithm should be used when \n",
    "the projection index involves order statistics of any kind, such as ranks, trimming, winsorizing, or empirical quantiles.\n",
    "\n",
    "- Robust PCA based on the Median Absolute Deviation (MAD) \\[2\\]. "
   ]
  },
  {
   "cell_type": "code",
   "execution_count": 10,
   "metadata": {},
   "outputs": [
    {
     "name": "stdout",
     "output_type": "stream",
     "text": [
      "1\n",
      "2\n",
      "3\n",
      "1\n",
      "2\n",
      "3\n",
      "4\n",
      "5\n",
      "6\n",
      "7\n",
      "8\n",
      "9\n",
      "10\n",
      "11\n",
      "12\n",
      "13\n",
      "14\n",
      "15\n",
      "16\n",
      "17\n",
      "18\n",
      "19\n",
      "20\n",
      "21\n",
      "22\n",
      "23\n",
      "24\n",
      "25\n",
      "26\n",
      "27\n",
      "28\n",
      "29\n",
      "30\n",
      "31\n",
      "32\n",
      "33\n",
      "34\n",
      "35\n",
      "36\n",
      "37\n",
      "38\n",
      "39\n",
      "40\n",
      "41\n",
      "42\n",
      "43\n",
      "44\n",
      "45\n",
      "46\n",
      "47\n",
      "48\n",
      "49\n",
      "50\n",
      "51\n",
      "52\n",
      "53\n",
      "54\n",
      "55\n",
      "56\n",
      "57\n",
      "58\n",
      "59\n",
      "60\n",
      "61\n",
      "62\n",
      "63\n",
      "64\n",
      "65\n",
      "66\n",
      "67\n",
      "68\n",
      "69\n",
      "70\n",
      "71\n",
      "72\n",
      "73\n",
      "74\n",
      "75\n",
      "76\n",
      "77\n",
      "78\n",
      "79\n",
      "80\n",
      "81\n",
      "82\n",
      "83\n",
      "84\n",
      "85\n",
      "86\n",
      "87\n",
      "88\n",
      "89\n",
      "90\n",
      "91\n",
      "92\n",
      "93\n",
      "94\n",
      "95\n",
      "96\n",
      "97\n",
      "98\n",
      "99\n",
      "100\n",
      "101\n",
      "102\n",
      "103\n",
      "104\n",
      "105\n",
      "106\n",
      "107\n",
      "108\n",
      "109\n",
      "110\n",
      "111\n",
      "112\n",
      "113\n",
      "114\n",
      "115\n",
      "116\n",
      "117\n",
      "118\n",
      "119\n",
      "120\n",
      "121\n",
      "122\n",
      "123\n",
      "124\n",
      "125\n",
      "126\n",
      "127\n",
      "128\n",
      "129\n",
      "130\n",
      "131\n",
      "132\n",
      "133\n",
      "134\n",
      "135\n",
      "136\n",
      "137\n",
      "138\n",
      "139\n",
      "140\n",
      "141\n",
      "142\n",
      "143\n",
      "144\n",
      "145\n",
      "146\n",
      "147\n",
      "148\n",
      "149\n",
      "150\n",
      "151\n",
      "152\n",
      "153\n",
      "154\n",
      "155\n",
      "156\n",
      "157\n",
      "158\n",
      "159\n",
      "160\n",
      "161\n",
      "162\n",
      "163\n",
      "164\n",
      "165\n",
      "166\n",
      "167\n",
      "168\n",
      "169\n",
      "170\n",
      "171\n",
      "172\n",
      "173\n",
      "174\n",
      "175\n",
      "176\n",
      "177\n",
      "178\n",
      "179\n",
      "180\n",
      "181\n",
      "182\n",
      "183\n",
      "184\n",
      "185\n",
      "186\n",
      "187\n",
      "188\n",
      "189\n",
      "190\n",
      "191\n",
      "192\n",
      "193\n",
      "194\n",
      "195\n",
      "196\n",
      "197\n",
      "198\n",
      "199\n",
      "200\n",
      "201\n",
      "202\n",
      "203\n",
      "204\n",
      "205\n",
      "206\n",
      "207\n",
      "208\n",
      "209\n",
      "210\n",
      "211\n",
      "212\n",
      "213\n",
      "214\n",
      "215\n",
      "216\n",
      "217\n",
      "218\n",
      "219\n",
      "220\n",
      "221\n",
      "222\n",
      "223\n",
      "224\n",
      "225\n",
      "226\n",
      "227\n",
      "228\n",
      "229\n",
      "230\n",
      "231\n",
      "232\n",
      "233\n",
      "234\n",
      "235\n",
      "1\n",
      "2\n",
      "3\n",
      "4\n",
      "1\n",
      "2\n"
     ]
    },
    {
     "data": {
      "text/plain": [
       "array([[ 0.6324543 , -0.0064785 , -0.36523981,  0.63663447],\n",
       "       [ 0.44750274, -0.6722733 ,  0.49775894, -0.20877332],\n",
       "       [ 0.53378114,  0.28779749, -0.45903095, -0.7344607 ],\n",
       "       [ 0.35432068,  0.68536355,  0.64268975,  0.10807968]])"
      ]
     },
     "execution_count": 10,
     "metadata": {},
     "output_type": "execute_result"
    }
   ],
   "source": [
    "lcpca = ppdire(projection_index = dicomo, pi_arguments = {'mode' : 'var', 'center': 'median'}, n_components=4, optimizer='grid',optimizer_options={'ndir':1000,'maxiter':10})\n",
    "#set a higher maxiter for convergence and precision! \n",
    "lcpca.fit(X)\n",
    "lcpca.x_loadings_"
   ]
  },
  {
   "cell_type": "markdown",
   "metadata": {},
   "source": [
    "To extend to Robust PCR, just add `y`: "
   ]
  },
  {
   "cell_type": "code",
   "execution_count": null,
   "metadata": {},
   "outputs": [],
   "source": [
    " lcpca.fit(X,y,regopt='robust')"
   ]
  },
  {
   "cell_type": "markdown",
   "metadata": {},
   "source": [
    "- Robust Continuum Regression \\[4\\] based on trimmed continuum association: "
   ]
  },
  {
   "cell_type": "code",
   "execution_count": 12,
   "metadata": {},
   "outputs": [
    {
     "name": "stdout",
     "output_type": "stream",
     "text": [
      "1\n",
      "2\n",
      "1\n",
      "2\n",
      "3\n",
      "1\n",
      "2\n",
      "3\n",
      "4\n",
      "5\n",
      "6\n",
      "7\n",
      "8\n",
      "9\n",
      "1\n",
      "2\n"
     ]
    },
    {
     "data": {
      "text/plain": [
       "array([-0.26770602,  0.8438178 , -0.22220975, ..., -0.02740443,\n",
       "       -0.10328256,  0.27283931])"
      ]
     },
     "execution_count": 12,
     "metadata": {},
     "output_type": "execute_result"
    }
   ],
   "source": [
    "rcr = ppdire(projection_index = dicomo, pi_arguments = {'mode' : 'continuum'}, n_components=4, trimming=.1, alpha=.5, optimizer='grid',optimizer_options={'ndir':250,'maxiter':1000})\n",
    "rcr.fit(X,y=y,regopt='robust')\n",
    "rcr.x_loadings_\n",
    "rcr.x_scores_\n",
    "rcr.coef_scaled_\n",
    "rcr.predict(X)"
   ]
  },
  {
   "cell_type": "markdown",
   "metadata": {},
   "source": [
    "3\\. Projection pursuit generalized betas\n",
    "================================\n",
    "\n",
    "Generalized betas are obtained as the projection pursuit weights using the \n",
    "co-moment analysis projection index (CAPI) \\[2\\]. "
   ]
  },
  {
   "cell_type": "code",
   "execution_count": 13,
   "metadata": {},
   "outputs": [
    {
     "data": {
      "text/plain": [
       "array([[ 0.89537008],\n",
       "       [-0.149126  ],\n",
       "       [ 0.03742233],\n",
       "       [ 0.41793949]])"
      ]
     },
     "execution_count": 13,
     "metadata": {},
     "output_type": "execute_result"
    }
   ],
   "source": [
    "from ppdire import capi \n",
    "est = ppdire(projection_index = capi, pi_arguments = {'max_degree' : 3,'projection_index': dicomo, 'scaling': False}, n_components=1, trimming=0,center_data=True,scale_data=True)\n",
    "est.fit(X,y=y,ndir=200)\n",
    "est.x_weights_"
   ]
  },
  {
   "cell_type": "markdown",
   "metadata": {},
   "source": [
    "Note that these data aren't the greatest illustration. Evaluating CAPI projections, makes more sense if y is a market index, e.g. SPX. "
   ]
  },
  {
   "cell_type": "markdown",
   "metadata": {},
   "source": [
    "4\\. Cross-validating through `scikit-learn` \n",
    "===========================================\n",
    "\n",
    "The `ppdire` class is 100% compatible with `scikit-learn`, which allows, for instance, hyperparameter tuning through `GridSearchCV`. \n",
    "To try out, uncomment the line below and run. (this may take some time). "
   ]
  },
  {
   "cell_type": "code",
   "execution_count": 15,
   "metadata": {},
   "outputs": [],
   "source": [
    "# Uncomment to try out:\n",
    "\n",
    "# from sklearn.model_selection import GridSearchCV\n",
    "# rcr_cv = GridSearchCV(ppdire(projection_index=dicomo, \n",
    "#                                    pi_arguments = {'mode' : 'continuum'\n",
    "#                                                    }, \n",
    "#                                    optimizer = 'grid',\n",
    "#                                   optimizer_options = {'ndir':1000,'maxiter':1000}\n",
    "#                                   ), \n",
    "#                             cv=10, \n",
    "#                             param_grid={\"n_components\": [1, 2, 3], \n",
    "#                                         \"alpha\": np.arange(.1,3,.3).tolist(),\n",
    "#                                         \"trimming\": [0, .15]\n",
    "#                                        }\n",
    "#                            )\n",
    "#       rcr_cv.fit(X[:2666],y[:2666]) \n",
    "#       rcr_cv.best_params_\n",
    "#       rcr_cv.predict(X[2666:])"
   ]
  },
  {
   "cell_type": "markdown",
   "metadata": {},
   "source": [
    "5\\. Data compression\n",
    "=================\n",
    "While `ppdire` is very flexible and can project according to a very wide variety \n",
    "of projection indices, it can be computationally demanding. For flat data tables,\n",
    "a workaround has been built in. However, not that running the code in the next field can take quite some time nonetheless.   "
   ]
  },
  {
   "cell_type": "code",
   "execution_count": null,
   "metadata": {},
   "outputs": [
    {
     "name": "stdout",
     "output_type": "stream",
     "text": [
      "1\n",
      "2\n",
      "3\n",
      "4\n",
      "5\n",
      "6\n",
      "7\n",
      "1\n",
      "2\n",
      "3\n",
      "4\n",
      "5\n",
      "6\n",
      "7\n",
      "8\n",
      "1\n",
      "2\n",
      "3\n",
      "1\n",
      "2\n",
      "[[-4.71006531e-05 -1.73132209e-05 -2.32341283e-05  1.92662729e-05]\n",
      " [-4.91739225e-05 -2.17947308e-05 -2.87668265e-05  1.20306899e-05]\n",
      " [-5.12759847e-05 -1.42524723e-05 -1.93896027e-05  3.01898039e-05]\n",
      " [-5.52807363e-05 -1.16097279e-05 -1.61289191e-05  3.89100248e-05]\n",
      " [-6.40861390e-05 -2.28662497e-05 -3.16943089e-05  2.28228633e-05]\n",
      " [-7.48150962e-05 -1.73256629e-05 -2.46603844e-05  4.64485391e-05]\n",
      " [-9.23330952e-05 -1.00954653e-05 -1.93254855e-05  7.29662769e-05]\n",
      " [-1.15254313e-04 -7.55476110e-06 -1.78942404e-05  9.62501844e-05]\n",
      " [-1.47591582e-04  1.82604412e-05  9.50671369e-06  1.71444482e-04]\n",
      " [-1.61291766e-04  1.09591453e-04  1.11139450e-04  3.23510785e-04]\n",
      " [-1.70482657e-04  3.03507364e-04  3.33934289e-04  6.62455264e-04]\n",
      " [-1.45179276e-04  5.85905143e-04  6.65129657e-04  1.10966356e-03]\n",
      " [-7.77104871e-05  8.64100138e-04  9.93342063e-04  1.53689877e-03]\n",
      " [ 2.11272402e-05  1.29104873e-03  1.50740200e-03  2.22823988e-03]\n",
      " [ 7.15290516e-05  1.50264099e-03  1.77075253e-03  2.56595212e-03]\n",
      " [ 1.09162781e-04  1.60968932e-03  1.89047954e-03  2.69343153e-03]\n",
      " [ 1.18617337e-04  1.48081354e-03  1.75097349e-03  2.49386541e-03]\n",
      " [ 1.38542583e-04  1.51925671e-03  1.78998761e-03  2.53266679e-03]\n",
      " [ 1.15328556e-04  1.34385620e-03  1.58170920e-03  2.24175998e-03]\n",
      " [ 1.04008113e-04  1.24163334e-03  1.46883931e-03  2.09164867e-03]\n",
      " [ 1.00279069e-04  1.14563078e-03  1.35460667e-03  1.91751954e-03]\n",
      " [ 9.29694015e-05  1.08316596e-03  1.27498902e-03  1.80864468e-03]\n",
      " [ 8.26696542e-05  1.05340683e-03  1.24422190e-03  1.77091948e-03]\n",
      " [ 6.47914606e-05  9.97827038e-04  1.17178255e-03  1.66781038e-03]\n",
      " [ 6.12413453e-05  9.90875716e-04  1.15919316e-03  1.65456305e-03]\n",
      " [ 5.01145991e-05  9.01609455e-04  1.04888390e-03  1.49176735e-03]\n",
      " [ 4.02866338e-05  9.13001364e-04  1.06391901e-03  1.52476999e-03]\n",
      " [-3.05615438e-06  7.10080362e-04  8.17440442e-04  1.18833162e-03]\n",
      " [-2.44187108e-05  6.29096375e-04  7.20426193e-04  1.06866965e-03]\n",
      " [-5.97145951e-05  3.70031394e-04  4.03749745e-04  6.06473890e-04]\n",
      " [-9.80409902e-05  1.87903384e-04  1.79674434e-04  2.89460459e-04]\n",
      " [-1.34098811e-04 -1.12348287e-04 -1.74794841e-04 -2.13296169e-04]\n",
      " [-1.24343309e-04 -1.41794447e-04 -2.22844201e-04 -3.05994474e-04]\n",
      " [-1.17822358e-04 -1.11625679e-04 -1.89797210e-04 -2.62100100e-04]\n",
      " [-1.08178385e-04 -1.72394155e-04 -2.64518196e-04 -3.92883912e-04]\n",
      " [-8.49982491e-05 -1.70789513e-04 -2.63119511e-04 -4.12829580e-04]\n",
      " [-7.87502825e-05 -1.64350918e-04 -2.49280584e-04 -3.93346471e-04]\n",
      " [-6.73822281e-05 -1.67211258e-04 -2.59260243e-04 -4.22724610e-04]\n",
      " [-5.20137620e-05 -1.13443406e-04 -1.90768004e-04 -3.25708100e-04]\n",
      " [-4.00944219e-05 -7.82315535e-05 -1.42046828e-04 -2.53203103e-04]\n",
      " [-2.50322800e-05 -1.27769900e-05 -6.05165820e-05 -1.37572382e-04]\n",
      " [-2.19004679e-05 -1.83290645e-05 -6.49299050e-05 -1.44041769e-04]\n",
      " [-1.86259833e-05 -4.49196983e-05 -9.57258830e-05 -1.91755815e-04]\n",
      " [-1.18326912e-05 -8.47329258e-06 -4.95464739e-05 -1.22460940e-04]\n",
      " [-2.19443355e-05 -5.82137747e-05 -1.08324145e-04 -1.99533632e-04]\n",
      " [-1.62440672e-05 -6.14701868e-06 -4.22943993e-05 -1.02046727e-04]\n",
      " [-2.72486729e-05 -8.00548117e-05 -1.31931125e-04 -2.31111739e-04]\n",
      " [-3.63183640e-05 -9.53086321e-05 -1.45851862e-04 -2.35959085e-04]\n",
      " [-4.62651172e-05 -1.45285520e-04 -2.07617729e-04 -3.22884381e-04]\n",
      " [-5.40901438e-05 -1.59443154e-04 -2.20997104e-04 -3.30250566e-04]\n",
      " [-6.72413154e-05 -2.18837939e-04 -2.91096358e-04 -4.25314693e-04]\n",
      " [-9.45603341e-05 -3.66551896e-04 -4.68981133e-04 -6.68338921e-04]\n",
      " [-1.12718617e-04 -4.29273026e-04 -5.38468529e-04 -7.46048245e-04]\n",
      " [-1.28205881e-04 -5.93256284e-04 -7.31788547e-04 -1.01521732e-03]\n",
      " [-1.14313683e-04 -5.68585581e-04 -6.98219157e-04 -9.67922632e-04]\n",
      " [-9.20928720e-05 -4.51168653e-04 -5.51175396e-04 -7.58513492e-04]\n",
      " [-7.00440364e-05 -3.53254425e-04 -4.30925523e-04 -5.91669544e-04]\n",
      " [-4.97885050e-05 -2.33808060e-04 -2.85337700e-04 -3.88524436e-04]\n",
      " [-3.50233490e-05 -1.56897092e-04 -1.91851038e-04 -2.60856192e-04]\n",
      " [-2.59842434e-05 -1.08184507e-04 -1.32118271e-04 -1.77285325e-04]\n",
      " [-1.93116151e-05 -7.15658338e-05 -8.76811293e-05 -1.16347616e-04]\n",
      " [-1.40102117e-05 -4.88254348e-05 -5.98907377e-05 -7.88210127e-05]\n",
      " [-1.06114134e-05 -3.39726215e-05 -4.17905701e-05 -5.43171158e-05]\n",
      " [-8.11067186e-06 -2.32891551e-05 -2.86642262e-05 -3.65038729e-05]\n",
      " [-6.40707251e-06 -1.73978828e-05 -2.15057258e-05 -2.71981188e-05]\n",
      " [-5.38679922e-06 -1.36981730e-05 -1.69158516e-05 -2.10731959e-05]\n",
      " [-4.62477971e-06 -1.12289765e-05 -1.39080597e-05 -1.71246599e-05]\n",
      " [-4.20252021e-06 -9.60208959e-06 -1.19103637e-05 -1.44108537e-05]\n",
      " [-4.05888949e-06 -9.09396395e-06 -1.12519118e-05 -1.35301537e-05]\n",
      " [-4.13480757e-06 -9.05094717e-06 -1.12459171e-05 -1.34613365e-05]\n",
      " [-4.31422480e-06 -9.26359348e-06 -1.14587210e-05 -1.36113639e-05]\n",
      " [-4.64284501e-06 -9.43154426e-06 -1.16955604e-05 -1.36326508e-05]\n",
      " [-5.38688495e-06 -1.10015180e-05 -1.36431554e-05 -1.58582193e-05]\n",
      " [-6.31260436e-06 -1.31586258e-05 -1.63050767e-05 -1.91626741e-05]\n",
      " [-7.90115219e-06 -1.69911532e-05 -2.09939978e-05 -2.46781920e-05]\n",
      " [-1.00963661e-05 -2.05620511e-05 -2.53987266e-05 -2.93552697e-05]\n",
      " [-1.35338096e-05 -2.90428452e-05 -3.58603035e-05 -4.22119769e-05]\n",
      " [-1.83654028e-05 -4.23971983e-05 -5.22383919e-05 -6.24150505e-05]\n",
      " [-2.47011031e-05 -5.57488969e-05 -6.85744733e-05 -8.15129259e-05]\n",
      " [-3.24964596e-05 -6.65379025e-05 -8.23501033e-05 -9.53535832e-05]\n",
      " [-4.58120281e-05 -9.35214665e-05 -1.15674499e-04 -1.35234702e-04]\n",
      " [-5.80163685e-05 -1.02570225e-04 -1.27628071e-04 -1.43005698e-04]\n",
      " [-7.33125974e-05 -1.36216652e-04 -1.72515230e-04 -2.04476120e-04]\n",
      " [-6.91732201e-05 -9.70164981e-05 -1.31424605e-04 -1.56085423e-04]\n",
      " [-5.91114975e-05 -3.48533291e-05 -6.37725146e-05 -7.84084222e-05]\n",
      " [-2.73387582e-05  1.00310718e-04  7.89702469e-05  7.91916509e-05]\n",
      " [ 1.31140377e-05  2.50908185e-04  2.44970207e-04  2.58923567e-04]\n",
      " [ 9.05989332e-05  4.70977310e-04  4.74180487e-04  4.47959671e-04]\n",
      " [ 1.47730874e-04  6.35425508e-04  6.57867431e-04  6.28050097e-04]\n",
      " [ 1.70097004e-04  5.79709053e-04  5.59922378e-04  3.89580616e-04]\n",
      " [ 1.96179223e-04  5.40964142e-04  4.94097492e-04  2.17628881e-04]\n",
      " [ 2.00699042e-04  6.13042331e-04  5.97266326e-04  3.93017953e-04]\n",
      " [ 2.09174779e-04  4.46977971e-04  3.70637791e-04 -1.42824860e-06]\n",
      " [ 2.12799395e-04  5.43611123e-04  5.03640479e-04  2.25580811e-04]\n",
      " [ 1.79052264e-04  3.16436739e-04  2.31013843e-04 -1.59607401e-04]\n",
      " [ 1.88652219e-04  3.86852244e-04  3.05081801e-04 -6.44849497e-05]\n",
      " [ 1.62247033e-04  3.07978606e-04  2.20919454e-04 -1.64525059e-04]\n",
      " [ 1.66875071e-04  2.98573692e-04  2.04258907e-04 -1.72731443e-04]\n",
      " [ 1.19944558e-04  2.70188894e-04  1.95583517e-04 -1.30818033e-04]\n",
      " [ 8.99152464e-05  1.83793815e-04  1.04828670e-04 -2.22582473e-04]\n",
      " [ 3.63071965e-05  1.30494616e-04  4.22692943e-05 -2.43007584e-04]\n",
      " [ 3.72876324e-05  2.58270571e-04  2.16658207e-04  3.25675118e-05]\n",
      " [-2.50183231e-05  7.51434894e-05  1.20969331e-05 -1.87538895e-04]\n",
      " [-3.85814160e-05  1.18984923e-04  7.26373382e-05 -8.86019289e-05]\n",
      " [-6.21462771e-05  4.84426451e-05 -6.65272410e-06 -1.58919689e-04]\n",
      " [-1.12804188e-04 -1.16293233e-04 -1.89761577e-04 -3.70133440e-04]\n",
      " [-1.01203108e-04  5.43632685e-06 -2.92258524e-05 -1.03350794e-04]\n",
      " [-7.47549684e-05  2.33101082e-04  2.39738830e-04  2.89147546e-04]\n",
      " [-8.31233404e-05  3.43901871e-04  3.99788235e-04  5.78635159e-04]\n",
      " [-8.24366730e-05  1.14099854e-04  1.02244901e-04  1.00064755e-04]\n",
      " [-9.25427795e-05  3.45256472e-04  3.92153558e-04  5.63092809e-04]\n",
      " [-8.28121942e-05  4.40490671e-04  5.23978763e-04  7.67277602e-04]\n",
      " [-1.39315954e-04  5.06612376e-05  5.33518363e-05  1.11374968e-04]\n",
      " [-1.01867096e-04  1.65648717e-04  2.08048742e-04  3.01067383e-04]\n",
      " [-1.03383584e-04  2.81680688e-04  3.53508170e-04  5.27073331e-04]\n",
      " [-1.42446750e-04 -1.00938631e-04 -1.27284021e-04 -1.76515789e-04]\n",
      " [-8.02366735e-05  2.40776400e-04  3.19152674e-04  4.62780796e-04]\n",
      " [-1.14137515e-04  2.84051549e-04  3.88610179e-04  5.73781472e-04]\n",
      " [-1.34860508e-04  4.27568278e-05  1.12529548e-04  1.90994502e-04]\n",
      " [-1.27057274e-04  4.85832540e-05  1.45341734e-04  2.34841780e-04]\n",
      " [-1.27135110e-04  1.17619158e-04  2.45937465e-04  3.79114656e-04]\n",
      " [-9.54965055e-05  2.31788533e-04  3.93700915e-04  5.72494444e-04]\n",
      " [-1.18933163e-04  6.56056008e-05  2.18992102e-04  3.07829973e-04]\n",
      " [-1.43696004e-04 -1.31206547e-04  1.16088379e-06 -4.67449377e-06]\n",
      " [-1.20358803e-04 -9.84530920e-07  1.55121644e-04  2.31579930e-04]\n",
      " [-1.67911455e-04 -2.17088769e-04 -5.47012930e-05 -7.03921557e-05]\n",
      " [-1.73282889e-04 -2.95248044e-04 -1.44057205e-04 -2.23652975e-04]\n",
      " [-1.76456874e-04 -1.10726022e-04  9.69124824e-05  1.55785118e-04]\n",
      " [-1.99691340e-04 -4.04908427e-04 -2.32577136e-04 -3.45057310e-04]\n",
      " [-2.51429219e-04 -5.72769077e-04 -4.31165284e-04 -6.03111463e-04]\n",
      " [-2.34364564e-04 -3.55699656e-04 -1.25690982e-04 -1.94502086e-04]\n",
      " [-2.13624798e-04 -3.40570763e-04 -1.37916193e-04 -2.23821720e-04]\n",
      " [-2.23334942e-04 -4.78308494e-04 -2.97728566e-04 -4.41404883e-04]\n",
      " [-2.35216107e-04 -4.70878755e-04 -2.71740841e-04 -3.96583435e-04]\n",
      " [-2.55357999e-04 -4.02336784e-04 -1.71169304e-04 -2.32169941e-04]\n",
      " [-2.48574422e-04 -5.20613793e-04 -3.81166977e-04 -5.43702327e-04]\n",
      " [-1.79025079e-04 -2.39356548e-04 -5.88694587e-05 -1.25509695e-04]\n",
      " [-2.41940678e-04 -6.94917378e-04 -5.96427418e-04 -8.87164566e-04]\n",
      " [-1.62126383e-04 -1.82201235e-04 -1.53886468e-05 -1.47104859e-05]\n",
      " [-2.09220657e-04 -3.90787102e-04 -2.45795014e-04 -3.53657308e-04]\n",
      " [-2.78606816e-04 -3.83444033e-04 -2.35565301e-04 -2.30127665e-04]\n",
      " [-2.43058130e-04 -4.09194858e-04 -3.29836384e-04 -3.66893402e-04]\n",
      " [-2.66866375e-04 -1.65496216e-04 -2.97292812e-05  1.68349151e-04]\n",
      " [-2.91927599e-04 -5.17479460e-04 -5.16335724e-04 -5.09401701e-04]\n",
      " [-2.70553785e-04 -4.29918041e-04 -4.39221974e-04 -3.84930012e-04]\n",
      " [-2.41054553e-04 -4.26505020e-04 -4.53206611e-04 -4.26226261e-04]\n",
      " [-2.15404028e-04 -2.65776716e-04 -2.61641771e-04 -1.31913884e-04]\n",
      " [-1.73672787e-04 -1.76972151e-04 -1.68393969e-04 -3.78681573e-05]\n",
      " [-1.61366182e-04 -2.68284831e-04 -2.92938614e-04 -2.54979437e-04]\n",
      " [-1.35980095e-04 -2.34536851e-04 -2.51240638e-04 -2.11704586e-04]\n",
      " [-1.14721878e-04 -1.53432569e-04 -1.60037819e-04 -9.69423804e-05]\n",
      " [-1.02742737e-04 -1.09789474e-04 -1.09903582e-04 -3.19256993e-05]\n",
      " [-8.89800422e-05 -5.05542289e-05 -3.95637657e-05  6.11697442e-05]\n",
      " [-9.98999558e-05 -1.27074591e-04 -1.31396413e-04 -7.26823772e-05]\n",
      " [-9.91063279e-05 -1.35463803e-04 -1.45780297e-04 -9.65706759e-05]\n",
      " [-1.11796287e-04 -1.47870552e-04 -1.57059894e-04 -9.84365022e-05]\n",
      " [-1.18640215e-04 -1.80576442e-04 -1.96662912e-04 -1.52147930e-04]\n",
      " [-1.24654808e-04 -1.47456214e-04 -1.54070296e-04 -7.45831913e-05]\n",
      " [-1.28479865e-04 -8.16203463e-05 -7.21020492e-05  5.97796058e-05]\n",
      " [-1.63781340e-04 -9.13307415e-05 -8.16689108e-05  7.47499748e-05]\n",
      " [-1.96646898e-04 -2.00426574e-04 -2.04116665e-04 -6.88099133e-05]\n",
      " [-2.73433627e-04 -3.68246876e-04 -3.96412157e-04 -2.89142551e-04]\n",
      " [-2.83588518e-04 -4.02594372e-04 -4.42918147e-04 -3.81048569e-04]\n",
      " [-2.48976959e-04 -1.63440228e-04 -1.69656481e-04  2.39514837e-07]\n",
      " [-2.63089255e-04 -1.18687573e-04 -1.15076013e-04  5.21067395e-05]\n",
      " [-3.17338258e-04 -2.67497801e-04 -2.81052197e-04 -1.04071470e-04]\n",
      " [-2.42181530e-04 -9.54054052e-05 -9.50412345e-05  3.77675092e-05]\n",
      " [-2.13550035e-04 -2.47244673e-05 -1.97799557e-05  9.04007011e-05]\n",
      " [-1.62106957e-04  2.91305074e-04  3.40640432e-04  6.19328086e-04]\n",
      " [-2.00994841e-04  7.14936738e-05  9.98029934e-05  2.97456074e-04]\n",
      " [-2.25697916e-04  5.56308264e-05  7.68748561e-05  2.33387263e-04]\n",
      " [-1.72932994e-04  1.27748909e-04  1.41627961e-04  3.25750039e-04]\n",
      " [-2.44714078e-04 -3.99407771e-04 -4.86057008e-04 -5.88204456e-04]\n",
      " [-1.62452740e-04  3.10323903e-04  3.49309005e-04  5.70332049e-04]\n",
      " [-1.82713693e-04 -1.53550224e-04 -2.27280226e-04 -3.24063193e-04]\n",
      " [-1.63608838e-04 -1.53226563e-04 -1.74155784e-04 -2.05631812e-04]\n",
      " [-1.22571881e-04  1.81271177e-04  1.89680747e-04  2.73621850e-04]\n",
      " [-6.42107893e-05  2.65154822e-04  2.94995511e-04  3.82224585e-04]\n",
      " [-1.40982823e-04 -4.35809258e-04 -5.76875902e-04 -9.21380130e-04]\n",
      " [-6.76156828e-05  1.54536680e-04  1.81979765e-04  2.35033194e-04]\n",
      " [-1.13585597e-04  1.04099567e-04  1.05491253e-04  1.33993157e-04]\n",
      " [-7.24028768e-05 -7.17742713e-05 -8.33786330e-05 -1.78344901e-04]\n",
      " [-3.14434026e-05  2.78441525e-04  3.14768500e-04  3.85344334e-04]\n",
      " [-3.22260678e-05  2.57962079e-04  3.01901231e-04  3.81719778e-04]\n",
      " [-1.27238478e-05  4.00553975e-04  4.74437844e-04  6.22421805e-04]\n",
      " [-4.16115069e-05 -2.68952573e-05 -4.38626577e-05 -1.96644230e-04]\n",
      " [-7.92543680e-05 -6.47608697e-05 -9.49526008e-05 -2.19857799e-04]\n",
      " [-3.10620609e-05  1.23727394e-04  1.18915826e-04  2.20983288e-05]\n",
      " [-2.17983011e-05  1.41834336e-04  1.48636528e-04  1.03819504e-04]\n",
      " [-2.15713478e-05  2.11442246e-04  2.24209576e-04  2.03811160e-04]\n",
      " [ 4.90212510e-06  2.92646332e-04  3.16693177e-04  3.37475280e-04]\n",
      " [ 5.33278822e-06 -8.84978495e-07 -1.91735428e-05 -1.85196091e-04]\n",
      " [-1.17862494e-05  2.28609771e-04  2.58762302e-04  2.65530315e-04]\n",
      " [ 5.07700086e-06  2.83495978e-04  3.31705292e-04  3.79321043e-04]\n",
      " [ 2.98983336e-05  1.91555257e-04  2.04328229e-04  1.16003292e-04]\n",
      " [ 1.27695583e-05  4.36199797e-04  5.09157729e-04  6.19517496e-04]\n",
      " [ 4.99127763e-06  9.99592709e-05  9.84598275e-05  9.69330181e-06]\n",
      " [-3.01311380e-06  1.86465808e-04  1.94281212e-04  1.57459012e-04]\n",
      " [-1.13434222e-05  1.93686739e-06  1.48588108e-06 -1.09425495e-04]\n",
      " [ 1.44743247e-05 -3.95616753e-05 -6.02469456e-05 -2.41833891e-04]]\n"
     ]
    },
    {
     "name": "stdout",
     "output_type": "stream",
     "text": [
      "1\n",
      "2\n",
      "3\n",
      "4\n",
      "5\n",
      "6\n",
      "7\n",
      "8\n",
      "9\n",
      "10\n",
      "11\n",
      "12\n",
      "13\n",
      "14\n",
      "15\n",
      "16\n",
      "17\n",
      "18\n",
      "19\n",
      "20\n",
      "21\n",
      "22\n",
      "23\n"
     ]
    }
   ],
   "source": [
    "# Load flat data \n",
    "datan = ps.read_csv(\"../data/Glass_df.csv\")\n",
    "X = datan.values[:,100:300]\n",
    "y = datan.values[:,2]\n",
    "        \n",
    "# Now compare\n",
    "rcr = ppdire(projection_index = dicomo, \n",
    "                    pi_arguments = {'mode' : 'continuum'}, \n",
    "                    n_components=4, \n",
    "                    trimming=.1, \n",
    "                    alpha=.5, \n",
    "                    compression = False, \n",
    "                    optimizer='grid',\n",
    "                    optimizer_options={'ndir':1000,'maxiter':1000})\n",
    "rcr.fit(X,y)\n",
    "print(rcr.coef_)\n",
    "        \n",
    "rcr = ppdire(projection_index = dicomo, \n",
    "                    pi_arguments = {'mode' : 'continuum'}, \n",
    "                    n_components=4, \n",
    "                    trimming=.1, \n",
    "                    alpha=.5, \n",
    "                    compression = True, \n",
    "                    optimizer='grid',\n",
    "                    optimizer_options={'ndir':1000,'maxiter':1000})\n",
    "rcr.fit(X,y)\n",
    "rcr.coef_"
   ]
  },
  {
   "cell_type": "markdown",
   "metadata": {},
   "source": [
    "However, compression will not work properly if the data contain several low scale \n",
    "varables. In this example, it will not work for `X = datan.values[:,8:751]`. This \n",
    "will throw a warning, and `ppdire` will continue without compression. \n",
    "\n",
    "References\n",
    "----------------\n",
    "1. [Robust Multivariate Methods: The Projection Pursuit Approach](https://link.springer.com/chapter/10.1007/3-540-31314-1_32), Peter Filzmoser, Sven Serneels, Christophe Croux and Pierre J. Van Espen, in: From Data and Information Analysis to Knowledge Engineering, Spiliopoulou, M., Kruse, R., Borgelt, C., Nuernberger, A. and Gaul, W., eds., Springer Verlag, Berlin, Germany, 2006, pages 270--277.\n",
    "2. [Projection pursuit based generalized betas accounting for higher order co-moment effects in financial market analysis](https://arxiv.org/pdf/1908.00141.pdf), Sven Serneels, in: JSM Proceedings, Business and Economic Statistics Section. Alexandria, VA: American Statistical Association, 2019, 3009-3035.\n",
    "3. Robust principal components and dispersion matrices via projection pursuit, Chen, Z. and Li, G., Research Report, Department of Statistics, Harvard University, 1981.\n",
    "4. [Robust Continuum Regression](https://www.sciencedirect.com/science/article/abs/pii/S0169743904002667), Sven Serneels, Peter Filzmoser, Christophe Croux, Pierre J. Van Espen, Chemometrics and Intelligent Laboratory Systems, 76 (2005), 197-204."
   ]
  },
  {
   "cell_type": "code",
   "execution_count": null,
   "metadata": {},
   "outputs": [],
   "source": []
  }
 ],
 "metadata": {
  "kernelspec": {
   "display_name": "Python 3",
   "language": "python",
   "name": "python3"
  },
  "language_info": {
   "codemirror_mode": {
    "name": "ipython",
    "version": 3
   },
   "file_extension": ".py",
   "mimetype": "text/x-python",
   "name": "python",
   "nbconvert_exporter": "python",
   "pygments_lexer": "ipython3",
   "version": "3.7.3"
  }
 },
 "nbformat": 4,
 "nbformat_minor": 2
}
