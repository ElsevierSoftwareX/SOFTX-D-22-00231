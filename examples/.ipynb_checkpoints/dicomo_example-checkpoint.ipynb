{
 "cells": [
  {
   "cell_type": "markdown",
   "metadata": {},
   "source": [
    "Examples for `dicomo.py` subpackage, (Co)-Moment Estimates\n",
    "====================================================\n",
    "To run a toy example, start by sourcing packages and data: "
   ]
  },
  {
   "cell_type": "code",
   "execution_count": 5,
   "metadata": {},
   "outputs": [],
   "source": [
    "# Load data\n",
    "import pandas as ps\n",
    "import numpy as np\n",
    "import scipy.stats as sps\n",
    "import statsmodels.robust as srs\n",
    "from direpack import dicomo\n",
    "data = ps.read_csv(\"../data/Returns_shares.csv\")\n",
    "columns = data.columns[2:8]\n",
    "(n,p) = data.shape\n",
    "datav = np.matrix(data.values[:,2:8].astype('float64'))\n",
    "y = datav[:,0]\n",
    "x = datav[:,1]"
   ]
  },
  {
   "cell_type": "markdown",
   "metadata": {},
   "source": [
    "Product-Moment Statistics\n",
    "=========================\n",
    "a) Moments\n",
    "----------\n",
    "Let's compare some moment estimates to `numpy`'s version. \n",
    "\n",
    " - Second moment: variance "
   ]
  },
  {
   "cell_type": "code",
   "execution_count": 7,
   "metadata": {},
   "outputs": [
    {
     "name": "stdout",
     "output_type": "stream",
     "text": [
      "Variance without finite sample correction estimated by dicomo:2.215229401588822\n",
      "Variance without finite sample correction estimated by numpy:2.215229401588822\n",
      "Variance with finite sample correction estimated by dicomo:2.215867244779605\n",
      "Variance with finite sample correction estimated by numpy:2.215867244779605\n",
      "Robust 10% trimmed variance:0.9490388467977009\n",
      "MAD ex dicomo:1.0656481228764316\n",
      "MAD ex statsmodels:[1.06564972]\n"
     ]
    }
   ],
   "source": [
    "# Variance \n",
    "covest = dicomo() \n",
    "# division by n\n",
    "print(\"Variance without finite sample correction estimated by dicomo:\" + str(covest.fit(x,biascorr=False)))\n",
    "print(\"Variance without finite sample correction estimated by numpy:\" + str(np.var(x)))\n",
    "        \n",
    "# division by n-1 \n",
    "print(\"Variance with finite sample correction estimated by dicomo:\" + str(covest.fit(x,biascorr=True)))\n",
    "print(\"Variance with finite sample correction estimated by numpy:\" + str(np.var(x)*n/(n-1)))\n",
    "        \n",
    "    \n",
    "# Robust trimmed variance: \n",
    "print(\"Robust 10% trimmed variance:\" + str(covest.fit(x,biascorr=False,trimming=.1)))\n",
    "        \n",
    "# Nonparametric Scale: MAD\n",
    "# NB at this point, this is the only exception where dicomo will yield scale instead of the moment itself\n",
    "covest.set_params(center='median')\n",
    "print(\"MAD ex dicomo:\" + str(covest.fit(x)))\n",
    "print(\"MAD ex statsmodels:\" + str(srs.mad(x)))\n"
   ]
  },
  {
   "cell_type": "markdown",
   "metadata": {},
   "source": [
    "- third moment and skewness: "
   ]
  },
  {
   "cell_type": "code",
   "execution_count": 13,
   "metadata": {},
   "outputs": [
    {
     "name": "stdout",
     "output_type": "stream",
     "text": [
      "{'center': 'mean', 'est': 'arithmetic', 'mode': 'mom'}\n",
      "Third moment estimated by dicomo:1.279657025702231\n",
      "Third moment estimated by scipy.stats:[1.27965703]\n",
      "Skewness estimated by dicomo without small sample correction:0.3881195552213815\n",
      "Skewness estimated by scipy without small sample correction:[0.38811956]\n",
      "Skewness estimated by dicomo with small sample correction:0.3882872295778527\n",
      "Skewness estimated by scipy with small sample correction:[0.38828723]\n"
     ]
    }
   ],
   "source": [
    "# Third Moment  \n",
    "# division by n\n",
    "covest.set_params(center='mean',mode='mom')\n",
    "print(covest.get_params())\n",
    "print(\"Third moment estimated by dicomo:\" + str(covest.fit(x,biascorr=False,order=3)))\n",
    "print(\"Third moment estimated by scipy.stats:\" + str(sps.moment(x,3)))\n",
    "        \n",
    "# skewness \n",
    "covest.set_params(mode='skew')\n",
    "print(\"Skewness estimated by dicomo without small sample correction:\" + str(covest.fit(x,biascorr=False)))\n",
    "print(\"Skewness estimated by scipy without small sample correction:\" + str(sps.skew(x)))\n",
    "print(\"Skewness estimated by dicomo with small sample correction:\" + str(covest.fit(x,biascorr=True)))\n",
    "print(\"Skewness estimated by scipy with small sample correction:\" + str(sps.skew(x,bias=False)))"
   ]
  },
  {
   "cell_type": "markdown",
   "metadata": {},
   "source": [
    "- Fourth Moment and Kurtosis"
   ]
  },
  {
   "cell_type": "code",
   "execution_count": 21,
   "metadata": {},
   "outputs": [
    {
     "name": "stdout",
     "output_type": "stream",
     "text": [
      "Fourth moment estimated by dicomo:88.13900011202283\n",
      "Fourth moment estimated by scipy.stats:[88.13900011]\n",
      "Fourth moment estimated by dicomo, 20% trimmed:0.846793760134836\n",
      "Kurtosis estimated by dicomo without any corrections:17.961007966358498\n",
      "Kurtosis estimated by scipy without any correction:[17.96100797]\n",
      "Kurtosis estimated by dicomo with small sample correction:17.984292234604137\n",
      "Kurtosis estimated by scipy with small sample correction:[17.98429223]\n",
      "Kurtosis estimated by dicomo with small sample and Fisher corrections:14.984292234604137\n",
      "Kurtosis estimated by scipy with small sample and Fisher corrections:[14.98429223]\n"
     ]
    }
   ],
   "source": [
    "# 4th Moment \n",
    "covest.set_params(mode='mom')\n",
    "print(\"Fourth moment estimated by dicomo:\" + str(covest.fit(x,biascorr=False,order=4)))\n",
    "print(\"Fourth moment estimated by scipy.stats:\" + str(sps.moment(x,4)))\n",
    "\n",
    "# Again, we can trim: \n",
    "print(\"Fourth moment estimated by dicomo, 20% trimmed:\" + str(covest.fit(x,biascorr=False,order=4,trimming=.2)))\n",
    "\n",
    "#Kurtosis \n",
    "covest.set_params(mode='kurt')\n",
    "print(\"Kurtosis estimated by dicomo without any corrections:\" + str(covest.fit(x,biascorr=False)))\n",
    "print(\"Kurtosis estimated by scipy without any correction:\" + str(sps.kurtosis(x,fisher=False,bias=True)))\n",
    "print(\"Kurtosis estimated by dicomo with small sample correction:\" + str(covest.fit(x,biascorr=True,Fisher=False)))\n",
    "print(\"Kurtosis estimated by scipy with small sample correction:\" + str(sps.kurtosis(x,fisher=False,bias=False)))\n",
    "print(\"Kurtosis estimated by dicomo with small sample and Fisher corrections:\" + str(covest.fit(x,biascorr=True,Fisher=True)))\n",
    "print(\"Kurtosis estimated by scipy with small sample and Fisher corrections:\" + str(sps.kurtosis(x,fisher=True,bias=False)))"
   ]
  },
  {
   "cell_type": "code",
   "execution_count": null,
   "metadata": {},
   "outputs": [],
   "source": []
  }
 ],
 "metadata": {
  "kernelspec": {
   "display_name": "Python 3",
   "language": "python",
   "name": "python3"
  },
  "language_info": {
   "codemirror_mode": {
    "name": "ipython",
    "version": 3
   },
   "file_extension": ".py",
   "mimetype": "text/x-python",
   "name": "python",
   "nbconvert_exporter": "python",
   "pygments_lexer": "ipython3",
   "version": "3.7.3"
  }
 },
 "nbformat": 4,
 "nbformat_minor": 2
}
